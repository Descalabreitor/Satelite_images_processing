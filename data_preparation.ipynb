{
 "cells": [
  {
   "cell_type": "code",
   "source": [
    "import os\n",
    "\n",
    "import PIL\n",
    "from PIL import Image\n",
    "from tqdm import tqdm\n",
    "from utils.SatDataManager import  SatDataManager\n",
    "import utils.ImageOperations \n",
    "\n",
    "data_directory = \"E:/TFG/core_dataset_sat\"\n",
    "lr_dataset_name = \"lr_dataset\"\n",
    "hr_dataset_name = \"hr_dataset_png\"\n",
    "datamanager = SatDataManager(data_directory, lr_dataset_name, hr_dataset_name)\n",
    "\n",
    "metadata = datamanager.get_metadata()"
   ],
   "metadata": {
    "collapsed": false,
    "ExecuteTime": {
     "end_time": "2024-05-22T17:02:16.751349Z",
     "start_time": "2024-05-22T17:02:14.253977Z"
    }
   },
   "id": "6d1cf4d6434d850e",
   "outputs": [],
   "execution_count": 1
  },
  {
   "cell_type": "markdown",
   "source": [
    "# Dataset de fotos satelitales sin correcciones y rgb"
   ],
   "metadata": {
    "collapsed": false
   },
   "id": "e5668efb3bf7129"
  },
  {
   "cell_type": "code",
   "source": [
    "folder = \"E:\\\\TFG\\\\satelite_dataset\\\\124\"\n",
    "\n",
    "images_name = metadata['ID'].unique()\n",
    "for name in tqdm(images_name):\n",
    "    rgb_images = datamanager.read_lr_images(name, 8)\n",
    "    for id, rgb_image in enumerate(rgb_images):\n",
    "        rgb_image = (rgb_image*255).astype('uint8')\n",
    "        pil_image = Image.fromarray(rgb_image)\n",
    "        pil_image = pil_image.resize((164, 164))\n",
    "        pil_image.save(f\"{folder}{name}-{id}.png\")\n",
    "print(\"done, Images_processed: \" + str(len(os.listdir(folder))))"
   ],
   "metadata": {
    "collapsed": false,
    "ExecuteTime": {
     "end_time": "2024-05-22T17:00:51.015683Z",
     "start_time": "2024-05-22T17:00:49.809473Z"
    }
   },
   "id": "85f7affc9827b0f2",
   "outputs": [
    {
     "name": "stderr",
     "output_type": "stream",
     "text": [
      "  0%|          | 4/3928 [00:01<19:12,  3.40it/s]\n"
     ]
    },
    {
     "ename": "KeyboardInterrupt",
     "evalue": "",
     "output_type": "error",
     "traceback": [
      "\u001B[1;31m---------------------------------------------------------------------------\u001B[0m",
      "\u001B[1;31mKeyboardInterrupt\u001B[0m                         Traceback (most recent call last)",
      "\u001B[1;32m~\\AppData\\Local\\Temp\\ipykernel_13976\\2213263006.py\u001B[0m in \u001B[0;36m?\u001B[1;34m()\u001B[0m\n\u001B[0;32m      1\u001B[0m \u001B[0mfolder\u001B[0m \u001B[1;33m=\u001B[0m \u001B[1;34m\"E:\\\\TFG\\\\satelite_dataset\\\\124\"\u001B[0m\u001B[1;33m\u001B[0m\u001B[1;33m\u001B[0m\u001B[0m\n\u001B[0;32m      2\u001B[0m \u001B[1;33m\u001B[0m\u001B[0m\n\u001B[0;32m      3\u001B[0m \u001B[0mimages_name\u001B[0m \u001B[1;33m=\u001B[0m \u001B[0mmetadata\u001B[0m\u001B[1;33m[\u001B[0m\u001B[1;34m'ID'\u001B[0m\u001B[1;33m]\u001B[0m\u001B[1;33m.\u001B[0m\u001B[0munique\u001B[0m\u001B[1;33m(\u001B[0m\u001B[1;33m)\u001B[0m\u001B[1;33m\u001B[0m\u001B[1;33m\u001B[0m\u001B[0m\n\u001B[0;32m      4\u001B[0m \u001B[1;32mfor\u001B[0m \u001B[0mname\u001B[0m \u001B[1;32min\u001B[0m \u001B[0mtqdm\u001B[0m\u001B[1;33m(\u001B[0m\u001B[0mimages_name\u001B[0m\u001B[1;33m)\u001B[0m\u001B[1;33m:\u001B[0m\u001B[1;33m\u001B[0m\u001B[1;33m\u001B[0m\u001B[0m\n\u001B[1;32m----> 5\u001B[1;33m     \u001B[0mrgb_images\u001B[0m \u001B[1;33m=\u001B[0m \u001B[0mdatamanager\u001B[0m\u001B[1;33m.\u001B[0m\u001B[0mread_lr_images\u001B[0m\u001B[1;33m(\u001B[0m\u001B[0mname\u001B[0m\u001B[1;33m,\u001B[0m \u001B[1;36m8\u001B[0m\u001B[1;33m)\u001B[0m\u001B[1;33m\u001B[0m\u001B[1;33m\u001B[0m\u001B[0m\n\u001B[0m\u001B[0;32m      6\u001B[0m     \u001B[1;32mfor\u001B[0m \u001B[0mid\u001B[0m\u001B[1;33m,\u001B[0m \u001B[0mrgb_image\u001B[0m \u001B[1;32min\u001B[0m \u001B[0menumerate\u001B[0m\u001B[1;33m(\u001B[0m\u001B[0mrgb_images\u001B[0m\u001B[1;33m)\u001B[0m\u001B[1;33m:\u001B[0m\u001B[1;33m\u001B[0m\u001B[1;33m\u001B[0m\u001B[0m\n\u001B[0;32m      7\u001B[0m         \u001B[0mrgb_image\u001B[0m \u001B[1;33m=\u001B[0m \u001B[1;33m(\u001B[0m\u001B[0mrgb_image\u001B[0m\u001B[1;33m*\u001B[0m\u001B[1;36m255\u001B[0m\u001B[1;33m)\u001B[0m\u001B[1;33m.\u001B[0m\u001B[0mastype\u001B[0m\u001B[1;33m(\u001B[0m\u001B[1;34m'uint8'\u001B[0m\u001B[1;33m)\u001B[0m\u001B[1;33m\u001B[0m\u001B[1;33m\u001B[0m\u001B[0m\n\u001B[0;32m      8\u001B[0m         \u001B[0mpil_image\u001B[0m \u001B[1;33m=\u001B[0m \u001B[0mImage\u001B[0m\u001B[1;33m.\u001B[0m\u001B[0mfromarray\u001B[0m\u001B[1;33m(\u001B[0m\u001B[0mrgb_image\u001B[0m\u001B[1;33m)\u001B[0m\u001B[1;33m\u001B[0m\u001B[1;33m\u001B[0m\u001B[0m\n",
      "\u001B[1;32m~\\Desktop\\TFG-code\\Satelite_images_processing\\utils\\SatDataManager.py\u001B[0m in \u001B[0;36m?\u001B[1;34m(self, data_point, n_revisits, image_shape)\u001B[0m\n\u001B[0;32m     37\u001B[0m     \u001B[1;32mdef\u001B[0m \u001B[0mread_lr_images\u001B[0m\u001B[1;33m(\u001B[0m\u001B[0mself\u001B[0m\u001B[1;33m,\u001B[0m \u001B[0mdata_point\u001B[0m\u001B[1;33m,\u001B[0m \u001B[0mn_revisits\u001B[0m\u001B[1;33m=\u001B[0m\u001B[1;36m1\u001B[0m\u001B[1;33m,\u001B[0m \u001B[0mimage_shape\u001B[0m\u001B[1;33m=\u001B[0m\u001B[1;33m(\u001B[0m\u001B[1;36m164\u001B[0m\u001B[1;33m,\u001B[0m \u001B[1;36m164\u001B[0m\u001B[1;33m,\u001B[0m \u001B[1;36m3\u001B[0m\u001B[1;33m)\u001B[0m\u001B[1;33m)\u001B[0m\u001B[1;33m:\u001B[0m\u001B[1;33m\u001B[0m\u001B[1;33m\u001B[0m\u001B[0m\n\u001B[1;32m---> 38\u001B[1;33m         \u001B[0mlr_images_package\u001B[0m \u001B[1;33m=\u001B[0m \u001B[0mself\u001B[0m\u001B[1;33m.\u001B[0m\u001B[0m__read_sat_image\u001B[0m\u001B[1;33m(\u001B[0m\u001B[0mdata_point\u001B[0m\u001B[1;33m,\u001B[0m \u001B[0mimage_shape\u001B[0m\u001B[1;33m=\u001B[0m\u001B[0mimage_shape\u001B[0m\u001B[1;33m,\u001B[0m \u001B[0mn_revisits\u001B[0m\u001B[1;33m=\u001B[0m\u001B[0mn_revisits\u001B[0m\u001B[1;33m)\u001B[0m\u001B[1;33m\u001B[0m\u001B[1;33m\u001B[0m\u001B[0m\n\u001B[0m\u001B[0;32m     39\u001B[0m         \u001B[1;32mreturn\u001B[0m \u001B[0mlr_images_package\u001B[0m\u001B[1;33m\u001B[0m\u001B[1;33m\u001B[0m\u001B[0m\n",
      "\u001B[1;32m~\\Desktop\\TFG-code\\Satelite_images_processing\\utils\\SatDataManager.py\u001B[0m in \u001B[0;36m?\u001B[1;34m(self, data_point, image_shape, n_revisits)\u001B[0m\n\u001B[0;32m     44\u001B[0m         \u001B[0mbest_revisits\u001B[0m \u001B[1;33m=\u001B[0m \u001B[0mself\u001B[0m\u001B[1;33m.\u001B[0m\u001B[0mmetadataOperator\u001B[0m\u001B[1;33m.\u001B[0m\u001B[0mget_best_revisits_id\u001B[0m\u001B[1;33m(\u001B[0m\u001B[0mdata_point\u001B[0m\u001B[1;33m,\u001B[0m \u001B[0mn_revisits\u001B[0m\u001B[1;33m)\u001B[0m\u001B[1;33m\u001B[0m\u001B[1;33m\u001B[0m\u001B[0m\n\u001B[0;32m     45\u001B[0m \u001B[1;33m\u001B[0m\u001B[0m\n\u001B[0;32m     46\u001B[0m         \u001B[1;32mfor\u001B[0m \u001B[0mrevisit\u001B[0m \u001B[1;32min\u001B[0m \u001B[0mbest_revisits\u001B[0m\u001B[1;33m:\u001B[0m\u001B[1;33m\u001B[0m\u001B[1;33m\u001B[0m\u001B[0m\n\u001B[0;32m     47\u001B[0m             \u001B[0mfile_name\u001B[0m \u001B[1;33m=\u001B[0m \u001B[0mdirectory\u001B[0m \u001B[1;33m+\u001B[0m \u001B[0mdata_point\u001B[0m \u001B[1;33m+\u001B[0m \u001B[1;34m\"-\"\u001B[0m \u001B[1;33m+\u001B[0m \u001B[0mstr\u001B[0m\u001B[1;33m(\u001B[0m\u001B[0mrevisit\u001B[0m\u001B[1;33m)\u001B[0m \u001B[1;33m+\u001B[0m \u001B[1;34m\"-L2A_data.tiff\"\u001B[0m\u001B[1;33m\u001B[0m\u001B[1;33m\u001B[0m\u001B[0m\n\u001B[1;32m---> 48\u001B[1;33m             \u001B[0mimage\u001B[0m \u001B[1;33m=\u001B[0m \u001B[0mtifffile\u001B[0m\u001B[1;33m.\u001B[0m\u001B[0mimread\u001B[0m\u001B[1;33m(\u001B[0m\u001B[0mdirectory\u001B[0m \u001B[1;33m+\u001B[0m \u001B[0mfile_name\u001B[0m\u001B[1;33m)\u001B[0m\u001B[1;33m\u001B[0m\u001B[1;33m\u001B[0m\u001B[0m\n\u001B[0m\u001B[0;32m     49\u001B[0m             \u001B[0mimage\u001B[0m \u001B[1;33m=\u001B[0m \u001B[0mImageOperations\u001B[0m\u001B[1;33m.\u001B[0m\u001B[0mread_rgb_bands\u001B[0m\u001B[1;33m(\u001B[0m\u001B[0mimage\u001B[0m\u001B[1;33m)\u001B[0m\u001B[1;33m\u001B[0m\u001B[1;33m\u001B[0m\u001B[0m\n\u001B[0;32m     50\u001B[0m             \u001B[1;31m#images.append(ImageOperations.apply_padding(image, image_shape))\u001B[0m\u001B[1;33m\u001B[0m\u001B[1;33m\u001B[0m\u001B[0m\n\u001B[0;32m     51\u001B[0m             \u001B[0mimages\u001B[0m\u001B[1;33m.\u001B[0m\u001B[0mappend\u001B[0m\u001B[1;33m(\u001B[0m\u001B[0mimage\u001B[0m\u001B[1;33m)\u001B[0m\u001B[1;33m\u001B[0m\u001B[1;33m\u001B[0m\u001B[0m\n",
      "\u001B[1;32m~\\miniconda3\\envs\\cuda\\Lib\\site-packages\\tifffile\\tifffile.py\u001B[0m in \u001B[0;36m?\u001B[1;34m(files, aszarr, key, series, level, squeeze, maxworkers, mode, name, offset, size, pattern, axesorder, categories, imread, sort, container, chunkshape, dtype, axestiled, ioworkers, chunkmode, fillvalue, zattrs, multiscales, omexml, out, out_inplace, _multifile, _useframes, **kwargs)\u001B[0m\n\u001B[0;32m   1058\u001B[0m \u001B[1;33m\u001B[0m\u001B[0m\n\u001B[0;32m   1059\u001B[0m         if isinstance(files, str) or not isinstance(\n\u001B[0;32m   1060\u001B[0m             \u001B[0mfiles\u001B[0m\u001B[1;33m,\u001B[0m \u001B[0mcollections\u001B[0m\u001B[1;33m.\u001B[0m\u001B[0mabc\u001B[0m\u001B[1;33m.\u001B[0m\u001B[0mSequence\u001B[0m\u001B[1;33m\u001B[0m\u001B[1;33m\u001B[0m\u001B[0m\n\u001B[0;32m   1061\u001B[0m         \u001B[1;33m)\u001B[0m\u001B[1;33m:\u001B[0m\u001B[1;33m\u001B[0m\u001B[1;33m\u001B[0m\u001B[0m\n\u001B[1;32m-> 1062\u001B[1;33m             with TiffFile(\n\u001B[0m\u001B[0;32m   1063\u001B[0m                 \u001B[0mfiles\u001B[0m\u001B[1;33m,\u001B[0m\u001B[1;33m\u001B[0m\u001B[1;33m\u001B[0m\u001B[0m\n\u001B[0;32m   1064\u001B[0m                 \u001B[0mmode\u001B[0m\u001B[1;33m=\u001B[0m\u001B[0mmode\u001B[0m\u001B[1;33m,\u001B[0m\u001B[1;33m\u001B[0m\u001B[1;33m\u001B[0m\u001B[0m\n\u001B[0;32m   1065\u001B[0m                 \u001B[0mname\u001B[0m\u001B[1;33m=\u001B[0m\u001B[0mname\u001B[0m\u001B[1;33m,\u001B[0m\u001B[1;33m\u001B[0m\u001B[1;33m\u001B[0m\u001B[0m\n",
      "\u001B[1;32m~\\miniconda3\\envs\\cuda\\Lib\\site-packages\\tifffile\\tifffile.py\u001B[0m in \u001B[0;36m?\u001B[1;34m(self, file, mode, name, offset, size, omexml, _multifile, _useframes, _parent, **is_flags)\u001B[0m\n\u001B[0;32m   3989\u001B[0m \u001B[1;33m\u001B[0m\u001B[0m\n\u001B[0;32m   3990\u001B[0m         \u001B[1;32mif\u001B[0m \u001B[0mmode\u001B[0m \u001B[1;32mnot\u001B[0m \u001B[1;32min\u001B[0m \u001B[1;33m(\u001B[0m\u001B[1;32mNone\u001B[0m\u001B[1;33m,\u001B[0m \u001B[1;34m'r'\u001B[0m\u001B[1;33m,\u001B[0m \u001B[1;34m'r+'\u001B[0m\u001B[1;33m,\u001B[0m \u001B[1;34m'rb'\u001B[0m\u001B[1;33m,\u001B[0m \u001B[1;34m'r+b'\u001B[0m\u001B[1;33m)\u001B[0m\u001B[1;33m:\u001B[0m\u001B[1;33m\u001B[0m\u001B[1;33m\u001B[0m\u001B[0m\n\u001B[0;32m   3991\u001B[0m             \u001B[1;32mraise\u001B[0m \u001B[0mValueError\u001B[0m\u001B[1;33m(\u001B[0m\u001B[1;33mf'\u001B[0m\u001B[1;33minvalid mode \u001B[0m\u001B[1;33m{\u001B[0m\u001B[0mmode\u001B[0m\u001B[1;33m!\u001B[0m\u001B[0mr\u001B[0m\u001B[1;33m}\u001B[0m\u001B[1;33m'\u001B[0m\u001B[1;33m)\u001B[0m\u001B[1;33m\u001B[0m\u001B[1;33m\u001B[0m\u001B[0m\n\u001B[0;32m   3992\u001B[0m \u001B[1;33m\u001B[0m\u001B[0m\n\u001B[1;32m-> 3993\u001B[1;33m         \u001B[0mfh\u001B[0m \u001B[1;33m=\u001B[0m \u001B[0mFileHandle\u001B[0m\u001B[1;33m(\u001B[0m\u001B[0mfile\u001B[0m\u001B[1;33m,\u001B[0m \u001B[0mmode\u001B[0m\u001B[1;33m=\u001B[0m\u001B[0mmode\u001B[0m\u001B[1;33m,\u001B[0m \u001B[0mname\u001B[0m\u001B[1;33m=\u001B[0m\u001B[0mname\u001B[0m\u001B[1;33m,\u001B[0m \u001B[0moffset\u001B[0m\u001B[1;33m=\u001B[0m\u001B[0moffset\u001B[0m\u001B[1;33m,\u001B[0m \u001B[0msize\u001B[0m\u001B[1;33m=\u001B[0m\u001B[0msize\u001B[0m\u001B[1;33m)\u001B[0m\u001B[1;33m\u001B[0m\u001B[1;33m\u001B[0m\u001B[0m\n\u001B[0m\u001B[0;32m   3994\u001B[0m         \u001B[0mself\u001B[0m\u001B[1;33m.\u001B[0m\u001B[0m_fh\u001B[0m \u001B[1;33m=\u001B[0m \u001B[0mfh\u001B[0m\u001B[1;33m\u001B[0m\u001B[1;33m\u001B[0m\u001B[0m\n\u001B[0;32m   3995\u001B[0m         \u001B[0mself\u001B[0m\u001B[1;33m.\u001B[0m\u001B[0m_multifile\u001B[0m \u001B[1;33m=\u001B[0m \u001B[1;32mTrue\u001B[0m \u001B[1;32mif\u001B[0m \u001B[0m_multifile\u001B[0m \u001B[1;32mis\u001B[0m \u001B[1;32mNone\u001B[0m \u001B[1;32melse\u001B[0m \u001B[0mbool\u001B[0m\u001B[1;33m(\u001B[0m\u001B[0m_multifile\u001B[0m\u001B[1;33m)\u001B[0m\u001B[1;33m\u001B[0m\u001B[1;33m\u001B[0m\u001B[0m\n\u001B[0;32m   3996\u001B[0m         \u001B[0mself\u001B[0m\u001B[1;33m.\u001B[0m\u001B[0m_files\u001B[0m \u001B[1;33m=\u001B[0m \u001B[1;33m{\u001B[0m\u001B[0mfh\u001B[0m\u001B[1;33m.\u001B[0m\u001B[0mname\u001B[0m\u001B[1;33m:\u001B[0m \u001B[0mself\u001B[0m\u001B[1;33m}\u001B[0m\u001B[1;33m\u001B[0m\u001B[1;33m\u001B[0m\u001B[0m\n",
      "\u001B[1;32m~\\miniconda3\\envs\\cuda\\Lib\\site-packages\\tifffile\\tifffile.py\u001B[0m in \u001B[0;36m?\u001B[1;34m(self, file, mode, name, offset, size)\u001B[0m\n\u001B[0;32m  13925\u001B[0m         \u001B[0mself\u001B[0m\u001B[1;33m.\u001B[0m\u001B[0m_offset\u001B[0m \u001B[1;33m=\u001B[0m \u001B[1;33m-\u001B[0m\u001B[1;36m1\u001B[0m \u001B[1;32mif\u001B[0m \u001B[0moffset\u001B[0m \u001B[1;32mis\u001B[0m \u001B[1;32mNone\u001B[0m \u001B[1;32melse\u001B[0m \u001B[0moffset\u001B[0m\u001B[1;33m\u001B[0m\u001B[1;33m\u001B[0m\u001B[0m\n\u001B[0;32m  13926\u001B[0m         \u001B[0mself\u001B[0m\u001B[1;33m.\u001B[0m\u001B[0m_size\u001B[0m \u001B[1;33m=\u001B[0m \u001B[1;33m-\u001B[0m\u001B[1;36m1\u001B[0m \u001B[1;32mif\u001B[0m \u001B[0msize\u001B[0m \u001B[1;32mis\u001B[0m \u001B[1;32mNone\u001B[0m \u001B[1;32melse\u001B[0m \u001B[0msize\u001B[0m\u001B[1;33m\u001B[0m\u001B[1;33m\u001B[0m\u001B[0m\n\u001B[0;32m  13927\u001B[0m         \u001B[0mself\u001B[0m\u001B[1;33m.\u001B[0m\u001B[0m_close\u001B[0m \u001B[1;33m=\u001B[0m \u001B[1;32mTrue\u001B[0m\u001B[1;33m\u001B[0m\u001B[1;33m\u001B[0m\u001B[0m\n\u001B[0;32m  13928\u001B[0m         \u001B[0mself\u001B[0m\u001B[1;33m.\u001B[0m\u001B[0m_lock\u001B[0m \u001B[1;33m=\u001B[0m \u001B[0mNullContext\u001B[0m\u001B[1;33m(\u001B[0m\u001B[1;33m)\u001B[0m\u001B[1;33m\u001B[0m\u001B[1;33m\u001B[0m\u001B[0m\n\u001B[1;32m> 13929\u001B[1;33m         \u001B[0mself\u001B[0m\u001B[1;33m.\u001B[0m\u001B[0mopen\u001B[0m\u001B[1;33m(\u001B[0m\u001B[1;33m)\u001B[0m\u001B[1;33m\u001B[0m\u001B[1;33m\u001B[0m\u001B[0m\n\u001B[0m\u001B[0;32m  13930\u001B[0m         \u001B[1;32massert\u001B[0m \u001B[0mself\u001B[0m\u001B[1;33m.\u001B[0m\u001B[0m_fh\u001B[0m \u001B[1;32mis\u001B[0m \u001B[1;32mnot\u001B[0m \u001B[1;32mNone\u001B[0m\u001B[1;33m\u001B[0m\u001B[1;33m\u001B[0m\u001B[0m\n",
      "\u001B[1;32m~\\miniconda3\\envs\\cuda\\Lib\\site-packages\\tifffile\\tifffile.py\u001B[0m in \u001B[0;36m?\u001B[1;34m(self)\u001B[0m\n\u001B[0;32m  13940\u001B[0m         \u001B[1;32mif\u001B[0m \u001B[0misinstance\u001B[0m\u001B[1;33m(\u001B[0m\u001B[0mself\u001B[0m\u001B[1;33m.\u001B[0m\u001B[0m_file\u001B[0m\u001B[1;33m,\u001B[0m \u001B[0mstr\u001B[0m\u001B[1;33m)\u001B[0m\u001B[1;33m:\u001B[0m\u001B[1;33m\u001B[0m\u001B[1;33m\u001B[0m\u001B[0m\n\u001B[0;32m  13941\u001B[0m             \u001B[1;31m# file name\u001B[0m\u001B[1;33m\u001B[0m\u001B[1;33m\u001B[0m\u001B[0m\n\u001B[0;32m  13942\u001B[0m             \u001B[0mself\u001B[0m\u001B[1;33m.\u001B[0m\u001B[0m_file\u001B[0m \u001B[1;33m=\u001B[0m \u001B[0mos\u001B[0m\u001B[1;33m.\u001B[0m\u001B[0mpath\u001B[0m\u001B[1;33m.\u001B[0m\u001B[0mrealpath\u001B[0m\u001B[1;33m(\u001B[0m\u001B[0mself\u001B[0m\u001B[1;33m.\u001B[0m\u001B[0m_file\u001B[0m\u001B[1;33m)\u001B[0m\u001B[1;33m\u001B[0m\u001B[1;33m\u001B[0m\u001B[0m\n\u001B[0;32m  13943\u001B[0m             \u001B[0mself\u001B[0m\u001B[1;33m.\u001B[0m\u001B[0m_dir\u001B[0m\u001B[1;33m,\u001B[0m \u001B[0mself\u001B[0m\u001B[1;33m.\u001B[0m\u001B[0m_name\u001B[0m \u001B[1;33m=\u001B[0m \u001B[0mos\u001B[0m\u001B[1;33m.\u001B[0m\u001B[0mpath\u001B[0m\u001B[1;33m.\u001B[0m\u001B[0msplit\u001B[0m\u001B[1;33m(\u001B[0m\u001B[0mself\u001B[0m\u001B[1;33m.\u001B[0m\u001B[0m_file\u001B[0m\u001B[1;33m)\u001B[0m\u001B[1;33m\u001B[0m\u001B[1;33m\u001B[0m\u001B[0m\n\u001B[1;32m> 13944\u001B[1;33m             \u001B[0mself\u001B[0m\u001B[1;33m.\u001B[0m\u001B[0m_fh\u001B[0m \u001B[1;33m=\u001B[0m \u001B[0mopen\u001B[0m\u001B[1;33m(\u001B[0m\u001B[0mself\u001B[0m\u001B[1;33m.\u001B[0m\u001B[0m_file\u001B[0m\u001B[1;33m,\u001B[0m \u001B[0mself\u001B[0m\u001B[1;33m.\u001B[0m\u001B[0m_mode\u001B[0m\u001B[1;33m)\u001B[0m  \u001B[1;31m# type: ignore\u001B[0m\u001B[1;33m\u001B[0m\u001B[1;33m\u001B[0m\u001B[0m\n\u001B[0m\u001B[0;32m  13945\u001B[0m             \u001B[0mself\u001B[0m\u001B[1;33m.\u001B[0m\u001B[0m_close\u001B[0m \u001B[1;33m=\u001B[0m \u001B[1;32mTrue\u001B[0m\u001B[1;33m\u001B[0m\u001B[1;33m\u001B[0m\u001B[0m\n\u001B[0;32m  13946\u001B[0m             \u001B[1;32mif\u001B[0m \u001B[0mself\u001B[0m\u001B[1;33m.\u001B[0m\u001B[0m_offset\u001B[0m \u001B[1;33m<\u001B[0m \u001B[1;36m0\u001B[0m\u001B[1;33m:\u001B[0m\u001B[1;33m\u001B[0m\u001B[1;33m\u001B[0m\u001B[0m\n\u001B[0;32m  13947\u001B[0m                 \u001B[0mself\u001B[0m\u001B[1;33m.\u001B[0m\u001B[0m_offset\u001B[0m \u001B[1;33m=\u001B[0m \u001B[1;36m0\u001B[0m\u001B[1;33m\u001B[0m\u001B[1;33m\u001B[0m\u001B[0m\n",
      "\u001B[1;31mKeyboardInterrupt\u001B[0m: "
     ]
    }
   ],
   "execution_count": 10
  },
  {
   "cell_type": "code",
   "source": [
    "#Resize to 64\n",
    "folder = \"E:\\\\TFG\\\\satelite_dataset\\\\\"\n",
    "size = 64\n",
    "for name in tqdm(os.listdir(f\"{folder}164\\\\\")):\n",
    "    pil_image = PIL.Image.open(f\"{folder}164\\\\{name}\")\n",
    "    pil_image = utils.ImageOperations.downscale(pil_image, (size, size))\n",
    "    pil_image.save(f\"{folder}{size}\\\\{name}.png\")\n"
   ],
   "metadata": {
    "collapsed": false,
    "ExecuteTime": {
     "end_time": "2024-05-22T17:05:21.058347Z",
     "start_time": "2024-05-22T17:02:29.935886Z"
    }
   },
   "id": "43f95a0b590ef566",
   "outputs": [
    {
     "name": "stderr",
     "output_type": "stream",
     "text": [
      "100%|██████████| 31424/31424 [02:51<00:00, 183.65it/s]"
     ]
    },
    {
     "name": "stdout",
     "output_type": "stream",
     "text": [
      "done, Images_processed: 2\n"
     ]
    },
    {
     "name": "stderr",
     "output_type": "stream",
     "text": [
      "\n"
     ]
    }
   ],
   "execution_count": 3
  },
  {
   "cell_type": "markdown",
   "source": [
    "# Dataset Fotos aereas RGB"
   ],
   "metadata": {
    "collapsed": false
   },
   "id": "9164205ff986ce3"
  },
  {
   "cell_type": "code",
   "source": [
    "folder = \"E:\\TFG\\core_dataset_sat\\hr_dataset_png\\\\\"\n",
    "\n",
    "images_name = metadata['ID'].unique()\n",
    "#save load in case of error\n",
    "images_name = images_name[len(os.listdir(folder))+1:]\n",
    "for name in images_name:\n",
    "    print(\"Processing:\" + name)\n",
    "    rgb_image = datamanager.get_hr_images([name]).squeeze().numpy()\n",
    "    rgb_image = (rgb_image*255).astype('uint8')\n",
    "    pil_image = Image.fromarray(rgb_image)\n",
    "    pil_image.save(folder + name + \".png\", format='PNG')\n",
    "print(\"done, Images_processed: \" + str(len(os.listdir(folder))))"
   ],
   "metadata": {
    "collapsed": false
   },
   "id": "5458cc0b3c63028a",
   "outputs": [],
   "execution_count": null
  },
  {
   "cell_type": "code",
   "source": [
    "images_name = metadata['ID'].unique()\n",
    "print(images_name[2769])"
   ],
   "metadata": {
    "collapsed": false
   },
   "id": "676d4e7b599d2740",
   "outputs": [],
   "execution_count": null
  },
  {
   "cell_type": "markdown",
   "source": [
    "Diferentes tamaños"
   ],
   "metadata": {
    "collapsed": false
   },
   "id": "aa528d29309aa4a6"
  },
  {
   "cell_type": "code",
   "source": [
    "import utils\n",
    "folder = \"E:\\TFG\\core_dataset_sat\\\\air_dataset\\\\\"\n",
    "sizes = [1024, 512, 256, 128, 64, 32]\n",
    "\n",
    "for name in os.listdir(\"E:\\TFG\\core_dataset_sat\\hr_dataset_png\"):\n",
    "    print(\"Processing:\" + name)\n",
    "    rgb_image = datamanager.read_hr_images([name[:-4]]).squeeze().numpy()\n",
    "    rgb_image = (rgb_image*255).astype('uint8')\n",
    "    pil_image = Image.fromarray(rgb_image)\n",
    "    for size in sizes:\n",
    "        pil_image = utils.ImageOperations.downscale(pil_image, (size, size))\n",
    "        pil_image.save(folder + str(size) + \"\\\\\" + name + \".png\", format='PNG')\n",
    "print(\"done, Images_processed: \" + str(len(os.listdir(folder))))"
   ],
   "metadata": {
    "collapsed": false
   },
   "id": "beeb04563e1b82bc",
   "outputs": [],
   "execution_count": null
  },
  {
   "cell_type": "code",
   "source": [
    "folder = \"E:\\TFG\\core_dataset_sat\\\\hr_dataset_png\\\\\"\n",
    "ids = [file[:-4] for file in os.listdir(folder)]\n",
    "new_metadata = metadata[metadata['ID'].isin(ids)]\n",
    "new_metadata = new_metadata[new_metadata['n'] == 1]\n",
    "new_metadata = new_metadata.drop(columns=['n', 'lowres_date', 'cloud_cover', 'delta'], axis=1)\n",
    "new_metadata.head()"
   ],
   "metadata": {
    "collapsed": false
   },
   "id": "21edfe2e30843409",
   "outputs": [],
   "execution_count": null
  },
  {
   "cell_type": "code",
   "source": [
    "new_metadata.to_csv(\"E:\\TFG\\core_dataset_sat\\\\air_dataset\\\\metadata.csv\", index=False)"
   ],
   "metadata": {
    "collapsed": false
   },
   "id": "67daafb32b947f24",
   "outputs": [],
   "execution_count": null
  },
  {
   "cell_type": "markdown",
   "source": [
    "# Corrección del nombre"
   ],
   "metadata": {
    "collapsed": false
   },
   "id": "4a1421cfb5de2abf"
  },
  {
   "cell_type": "code",
   "source": [
    "import os\n",
    "\n",
    "root_folder = \"E:\\\\TFG\\\\core_dataset_sat\\\\air_dataset\"\n",
    "for subfolder in os.listdir(root_folder):\n",
    "    path = os.path.join(root_folder, subfolder)\n",
    "    if subfolder.endswith(\".csv\"):\n",
    "        break\n",
    "    for filename in os.listdir(path):\n",
    "        img_id = filename.split('.')[0]\n",
    "        new_name = img_id + \".png\"\n",
    "        old_path = os.path.join(path, filename)\n",
    "        new_path = os.path.join(path, new_name)\n",
    "        os.rename(old_path, new_path)\n",
    "        print(new_path)"
   ],
   "metadata": {
    "collapsed": false
   },
   "id": "59605b7a8edaed8b",
   "outputs": [],
   "execution_count": null
  },
  {
   "cell_type": "code",
   "source": [],
   "metadata": {
    "collapsed": false
   },
   "id": "d2985ad490e5cc46",
   "outputs": [],
   "execution_count": null
  }
 ],
 "metadata": {
  "kernelspec": {
   "display_name": "Python 3",
   "language": "python",
   "name": "python3"
  },
  "language_info": {
   "codemirror_mode": {
    "name": "ipython",
    "version": 2
   },
   "file_extension": ".py",
   "mimetype": "text/x-python",
   "name": "python",
   "nbconvert_exporter": "python",
   "pygments_lexer": "ipython2",
   "version": "2.7.6"
  }
 },
 "nbformat": 4,
 "nbformat_minor": 5
}
