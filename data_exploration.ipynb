{
 "cells": [
  {
   "cell_type": "code",
   "execution_count": 1,
   "outputs": [],
   "source": [
    "from utils.DataManager import DataManager\n",
    "\n",
    "data_directory = \"E:/TFG/core_dataset_sat\"\n",
    "lr_dataset_name = \"lr_dataset\"\n",
    "hr_dataset_name = \"hr_dataset/12bit\"\n",
    "datamanager = DataManager(data_directory, lr_dataset_name, hr_dataset_name)\n",
    "\n",
    "metadata = datamanager.get_metadata()"
   ],
   "metadata": {
    "collapsed": false,
    "ExecuteTime": {
     "end_time": "2024-03-25T10:45:45.774350400Z",
     "start_time": "2024-03-25T10:45:43.487254300Z"
    }
   },
   "id": "6d1cf4d6434d850e"
  },
  {
   "cell_type": "code",
   "execution_count": 4,
   "outputs": [
    {
     "data": {
      "text/plain": "                       ID   n  \\\n0      Amnesty POI-10-1-1   1   \n1      Amnesty POI-10-1-1   2   \n2      Amnesty POI-10-1-1   3   \n3      Amnesty POI-10-1-1   4   \n4      Amnesty POI-10-1-1   5   \n...                   ...  ..   \n62843    UNHCR-BRAs003173  12   \n62844    UNHCR-BRAs003173  13   \n62845    UNHCR-BRAs003173  14   \n62846    UNHCR-BRAs003173  15   \n62847    UNHCR-BRAs003173  16   \n\n                                                  bounds lowres_date  \\\n0      [105.84161265950597, 13.147748954631947, 105.8...  2019-01-06   \n1      [105.84161265950597, 13.147748954631947, 105.8...  2019-02-15   \n2      [105.84161265950597, 13.147748954631947, 105.8...  2019-01-31   \n3      [105.84161265950597, 13.147748954631947, 105.8...  2018-12-17   \n4      [105.84161265950597, 13.147748954631947, 105.8...  2018-12-02   \n...                                                  ...         ...   \n62843  [-41.973930307054175, -12.04047654642226, -41....  2018-09-26   \n62844  [-41.973930307054175, -12.04047654642226, -41....  2018-09-26   \n62845  [-41.973930307054175, -12.04047654642226, -41....  2018-10-11   \n62846  [-41.973930307054175, -12.04047654642226, -41....  2018-10-11   \n62847  [-41.973930307054175, -12.04047654642226, -41....  2018-09-24   \n\n      highres_date  area  cloud_cover  delta         lon        lat  LCCS  \\\n0       2019-01-27   2.5         0.06    -21  105.848905  13.154895    50   \n1       2019-01-27   2.5         0.15     19  105.848905  13.154895    50   \n2       2019-01-27   2.5         6.26      4  105.848905  13.154895    50   \n3       2019-01-27   2.5         0.73    -41  105.848905  13.154895    50   \n4       2019-01-27   2.5         0.11    -56  105.848905  13.154895    50   \n...            ...   ...          ...    ...         ...        ...   ...   \n62843   2018-09-23   2.5         5.12      3  -41.966670 -12.033330   120   \n62844   2018-09-23   2.5         5.12      3  -41.966670 -12.033330   120   \n62845   2018-09-23   2.5         0.31     18  -41.966670 -12.033330   120   \n62846   2018-09-23   2.5         0.31     18  -41.966670 -12.033330   120   \n62847   2018-09-23   2.5         8.29      1  -41.966670 -12.033330   120   \n\n       SMOD IPCC Class                                         LCCS class  \\\n0        11     Forest  Tree cover, broadleaved, evergreen, closed to ...   \n1        11     Forest  Tree cover, broadleaved, evergreen, closed to ...   \n2        11     Forest  Tree cover, broadleaved, evergreen, closed to ...   \n3        11     Forest  Tree cover, broadleaved, evergreen, closed to ...   \n4        11     Forest  Tree cover, broadleaved, evergreen, closed to ...   \n...     ...        ...                                                ...   \n62843    11      Other                                          Shrubland   \n62844    11      Other                                          Shrubland   \n62845    11      Other                                          Shrubland   \n62846    11      Other                                          Shrubland   \n62847    11      Other                                          Shrubland   \n\n                 SMOD Class  \n0      Rural: Very Low Dens  \n1      Rural: Very Low Dens  \n2      Rural: Very Low Dens  \n3      Rural: Very Low Dens  \n4      Rural: Very Low Dens  \n...                     ...  \n62843  Rural: Very Low Dens  \n62844  Rural: Very Low Dens  \n62845  Rural: Very Low Dens  \n62846  Rural: Very Low Dens  \n62847  Rural: Very Low Dens  \n\n[62848 rows x 15 columns]",
      "text/html": "<div>\n<style scoped>\n    .dataframe tbody tr th:only-of-type {\n        vertical-align: middle;\n    }\n\n    .dataframe tbody tr th {\n        vertical-align: top;\n    }\n\n    .dataframe thead th {\n        text-align: right;\n    }\n</style>\n<table border=\"1\" class=\"dataframe\">\n  <thead>\n    <tr style=\"text-align: right;\">\n      <th></th>\n      <th>ID</th>\n      <th>n</th>\n      <th>bounds</th>\n      <th>lowres_date</th>\n      <th>highres_date</th>\n      <th>area</th>\n      <th>cloud_cover</th>\n      <th>delta</th>\n      <th>lon</th>\n      <th>lat</th>\n      <th>LCCS</th>\n      <th>SMOD</th>\n      <th>IPCC Class</th>\n      <th>LCCS class</th>\n      <th>SMOD Class</th>\n    </tr>\n  </thead>\n  <tbody>\n    <tr>\n      <th>0</th>\n      <td>Amnesty POI-10-1-1</td>\n      <td>1</td>\n      <td>[105.84161265950597, 13.147748954631947, 105.8...</td>\n      <td>2019-01-06</td>\n      <td>2019-01-27</td>\n      <td>2.5</td>\n      <td>0.06</td>\n      <td>-21</td>\n      <td>105.848905</td>\n      <td>13.154895</td>\n      <td>50</td>\n      <td>11</td>\n      <td>Forest</td>\n      <td>Tree cover, broadleaved, evergreen, closed to ...</td>\n      <td>Rural: Very Low Dens</td>\n    </tr>\n    <tr>\n      <th>1</th>\n      <td>Amnesty POI-10-1-1</td>\n      <td>2</td>\n      <td>[105.84161265950597, 13.147748954631947, 105.8...</td>\n      <td>2019-02-15</td>\n      <td>2019-01-27</td>\n      <td>2.5</td>\n      <td>0.15</td>\n      <td>19</td>\n      <td>105.848905</td>\n      <td>13.154895</td>\n      <td>50</td>\n      <td>11</td>\n      <td>Forest</td>\n      <td>Tree cover, broadleaved, evergreen, closed to ...</td>\n      <td>Rural: Very Low Dens</td>\n    </tr>\n    <tr>\n      <th>2</th>\n      <td>Amnesty POI-10-1-1</td>\n      <td>3</td>\n      <td>[105.84161265950597, 13.147748954631947, 105.8...</td>\n      <td>2019-01-31</td>\n      <td>2019-01-27</td>\n      <td>2.5</td>\n      <td>6.26</td>\n      <td>4</td>\n      <td>105.848905</td>\n      <td>13.154895</td>\n      <td>50</td>\n      <td>11</td>\n      <td>Forest</td>\n      <td>Tree cover, broadleaved, evergreen, closed to ...</td>\n      <td>Rural: Very Low Dens</td>\n    </tr>\n    <tr>\n      <th>3</th>\n      <td>Amnesty POI-10-1-1</td>\n      <td>4</td>\n      <td>[105.84161265950597, 13.147748954631947, 105.8...</td>\n      <td>2018-12-17</td>\n      <td>2019-01-27</td>\n      <td>2.5</td>\n      <td>0.73</td>\n      <td>-41</td>\n      <td>105.848905</td>\n      <td>13.154895</td>\n      <td>50</td>\n      <td>11</td>\n      <td>Forest</td>\n      <td>Tree cover, broadleaved, evergreen, closed to ...</td>\n      <td>Rural: Very Low Dens</td>\n    </tr>\n    <tr>\n      <th>4</th>\n      <td>Amnesty POI-10-1-1</td>\n      <td>5</td>\n      <td>[105.84161265950597, 13.147748954631947, 105.8...</td>\n      <td>2018-12-02</td>\n      <td>2019-01-27</td>\n      <td>2.5</td>\n      <td>0.11</td>\n      <td>-56</td>\n      <td>105.848905</td>\n      <td>13.154895</td>\n      <td>50</td>\n      <td>11</td>\n      <td>Forest</td>\n      <td>Tree cover, broadleaved, evergreen, closed to ...</td>\n      <td>Rural: Very Low Dens</td>\n    </tr>\n    <tr>\n      <th>...</th>\n      <td>...</td>\n      <td>...</td>\n      <td>...</td>\n      <td>...</td>\n      <td>...</td>\n      <td>...</td>\n      <td>...</td>\n      <td>...</td>\n      <td>...</td>\n      <td>...</td>\n      <td>...</td>\n      <td>...</td>\n      <td>...</td>\n      <td>...</td>\n      <td>...</td>\n    </tr>\n    <tr>\n      <th>62843</th>\n      <td>UNHCR-BRAs003173</td>\n      <td>12</td>\n      <td>[-41.973930307054175, -12.04047654642226, -41....</td>\n      <td>2018-09-26</td>\n      <td>2018-09-23</td>\n      <td>2.5</td>\n      <td>5.12</td>\n      <td>3</td>\n      <td>-41.966670</td>\n      <td>-12.033330</td>\n      <td>120</td>\n      <td>11</td>\n      <td>Other</td>\n      <td>Shrubland</td>\n      <td>Rural: Very Low Dens</td>\n    </tr>\n    <tr>\n      <th>62844</th>\n      <td>UNHCR-BRAs003173</td>\n      <td>13</td>\n      <td>[-41.973930307054175, -12.04047654642226, -41....</td>\n      <td>2018-09-26</td>\n      <td>2018-09-23</td>\n      <td>2.5</td>\n      <td>5.12</td>\n      <td>3</td>\n      <td>-41.966670</td>\n      <td>-12.033330</td>\n      <td>120</td>\n      <td>11</td>\n      <td>Other</td>\n      <td>Shrubland</td>\n      <td>Rural: Very Low Dens</td>\n    </tr>\n    <tr>\n      <th>62845</th>\n      <td>UNHCR-BRAs003173</td>\n      <td>14</td>\n      <td>[-41.973930307054175, -12.04047654642226, -41....</td>\n      <td>2018-10-11</td>\n      <td>2018-09-23</td>\n      <td>2.5</td>\n      <td>0.31</td>\n      <td>18</td>\n      <td>-41.966670</td>\n      <td>-12.033330</td>\n      <td>120</td>\n      <td>11</td>\n      <td>Other</td>\n      <td>Shrubland</td>\n      <td>Rural: Very Low Dens</td>\n    </tr>\n    <tr>\n      <th>62846</th>\n      <td>UNHCR-BRAs003173</td>\n      <td>15</td>\n      <td>[-41.973930307054175, -12.04047654642226, -41....</td>\n      <td>2018-10-11</td>\n      <td>2018-09-23</td>\n      <td>2.5</td>\n      <td>0.31</td>\n      <td>18</td>\n      <td>-41.966670</td>\n      <td>-12.033330</td>\n      <td>120</td>\n      <td>11</td>\n      <td>Other</td>\n      <td>Shrubland</td>\n      <td>Rural: Very Low Dens</td>\n    </tr>\n    <tr>\n      <th>62847</th>\n      <td>UNHCR-BRAs003173</td>\n      <td>16</td>\n      <td>[-41.973930307054175, -12.04047654642226, -41....</td>\n      <td>2018-09-24</td>\n      <td>2018-09-23</td>\n      <td>2.5</td>\n      <td>8.29</td>\n      <td>1</td>\n      <td>-41.966670</td>\n      <td>-12.033330</td>\n      <td>120</td>\n      <td>11</td>\n      <td>Other</td>\n      <td>Shrubland</td>\n      <td>Rural: Very Low Dens</td>\n    </tr>\n  </tbody>\n</table>\n<p>62848 rows × 15 columns</p>\n</div>"
     },
     "execution_count": 4,
     "metadata": {},
     "output_type": "execute_result"
    }
   ],
   "source": [
    "metadata"
   ],
   "metadata": {
    "collapsed": false,
    "ExecuteTime": {
     "end_time": "2024-03-25T10:55:54.608389700Z",
     "start_time": "2024-03-25T10:55:54.600029900Z"
    }
   },
   "id": "e78432e65c0bb218"
  },
  {
   "cell_type": "code",
   "execution_count": 3,
   "outputs": [
    {
     "data": {
      "text/plain": "   cloud_cover target_date delta  area    datetime\n0         0.06  2019-01-27   -21   2.5  2019-01-06\n1         0.15  2019-01-27    19   2.5  2019-02-15\n2         6.26  2019-01-27     4   2.5  2019-01-31\n3         0.73  2019-01-27   -41   2.5  2018-12-17\n4         0.11  2019-01-27   -56   2.5  2018-12-02\n5        13.89  2019-01-27    14   2.5  2019-02-10\n6        15.02  2019-01-27   -16   2.5  2019-01-11\n7        21.33  2019-01-27    -6   2.5  2019-01-21",
      "text/html": "<div>\n<style scoped>\n    .dataframe tbody tr th:only-of-type {\n        vertical-align: middle;\n    }\n\n    .dataframe tbody tr th {\n        vertical-align: top;\n    }\n\n    .dataframe thead th {\n        text-align: right;\n    }\n</style>\n<table border=\"1\" class=\"dataframe\">\n  <thead>\n    <tr style=\"text-align: right;\">\n      <th></th>\n      <th>cloud_cover</th>\n      <th>target_date</th>\n      <th>delta</th>\n      <th>area</th>\n      <th>datetime</th>\n    </tr>\n  </thead>\n  <tbody>\n    <tr>\n      <th>0</th>\n      <td>0.06</td>\n      <td>2019-01-27</td>\n      <td>-21</td>\n      <td>2.5</td>\n      <td>2019-01-06</td>\n    </tr>\n    <tr>\n      <th>1</th>\n      <td>0.15</td>\n      <td>2019-01-27</td>\n      <td>19</td>\n      <td>2.5</td>\n      <td>2019-02-15</td>\n    </tr>\n    <tr>\n      <th>2</th>\n      <td>6.26</td>\n      <td>2019-01-27</td>\n      <td>4</td>\n      <td>2.5</td>\n      <td>2019-01-31</td>\n    </tr>\n    <tr>\n      <th>3</th>\n      <td>0.73</td>\n      <td>2019-01-27</td>\n      <td>-41</td>\n      <td>2.5</td>\n      <td>2018-12-17</td>\n    </tr>\n    <tr>\n      <th>4</th>\n      <td>0.11</td>\n      <td>2019-01-27</td>\n      <td>-56</td>\n      <td>2.5</td>\n      <td>2018-12-02</td>\n    </tr>\n    <tr>\n      <th>5</th>\n      <td>13.89</td>\n      <td>2019-01-27</td>\n      <td>14</td>\n      <td>2.5</td>\n      <td>2019-02-10</td>\n    </tr>\n    <tr>\n      <th>6</th>\n      <td>15.02</td>\n      <td>2019-01-27</td>\n      <td>-16</td>\n      <td>2.5</td>\n      <td>2019-01-11</td>\n    </tr>\n    <tr>\n      <th>7</th>\n      <td>21.33</td>\n      <td>2019-01-27</td>\n      <td>-6</td>\n      <td>2.5</td>\n      <td>2019-01-21</td>\n    </tr>\n  </tbody>\n</table>\n</div>"
     },
     "execution_count": 3,
     "metadata": {},
     "output_type": "execute_result"
    }
   ],
   "source": [
    "datamanager.get_revisits_metada(\"Amnesty POI-10-1-1\")"
   ],
   "metadata": {
    "collapsed": false,
    "ExecuteTime": {
     "end_time": "2024-03-25T10:45:45.794994600Z",
     "start_time": "2024-03-25T10:45:45.785669500Z"
    }
   },
   "id": "56ebecc9015461cd"
  },
  {
   "cell_type": "markdown",
   "source": [
    "Para filtrar la mejor revisitas de cada foto de alta resolución nos fijaremos en la metadata, principalmente en el porcentaje cubierto de nubes la distancia temporal entre las 2 imagenes. Así como en el delta."
   ],
   "metadata": {
    "collapsed": false
   },
   "id": "c088f5284ee32c34"
  },
  {
   "cell_type": "code",
   "execution_count": null,
   "outputs": [],
   "source": [],
   "metadata": {
    "collapsed": false
   },
   "id": "6695d2c394478748"
  }
 ],
 "metadata": {
  "kernelspec": {
   "display_name": "Python 3",
   "language": "python",
   "name": "python3"
  },
  "language_info": {
   "codemirror_mode": {
    "name": "ipython",
    "version": 2
   },
   "file_extension": ".py",
   "mimetype": "text/x-python",
   "name": "python",
   "nbconvert_exporter": "python",
   "pygments_lexer": "ipython2",
   "version": "2.7.6"
  }
 },
 "nbformat": 4,
 "nbformat_minor": 5
}
