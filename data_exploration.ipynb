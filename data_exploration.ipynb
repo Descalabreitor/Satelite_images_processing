{
 "cells": [
  {
   "cell_type": "code",
   "execution_count": 1,
   "outputs": [],
   "source": [
    "from utils.DataManager import DataManager\n",
    "\n",
    "data_directory = \"E:/TFG/core_dataset_sat\"\n",
    "lr_dataset_name = \"lr_dataset\"\n",
    "hr_dataset_name = \"hr_dataset/12bit\"\n",
    "datamanager = DataManager(data_directory, lr_dataset_name, hr_dataset_name)\n",
    "\n",
    "metadata = datamanager.get_metadata()"
   ],
   "metadata": {
    "collapsed": false,
    "ExecuteTime": {
     "end_time": "2024-03-20T20:00:08.267197300Z",
     "start_time": "2024-03-20T20:00:06.048625200Z"
    }
   },
   "id": "6d1cf4d6434d850e"
  },
  {
   "cell_type": "code",
   "execution_count": 2,
   "outputs": [
    {
     "data": {
      "text/plain": "                   ID  n                                             bounds  \\\n0  Amnesty POI-10-1-1  1  [105.84161265950597, 13.147748954631947, 105.8...   \n1  Amnesty POI-10-1-1  2  [105.84161265950597, 13.147748954631947, 105.8...   \n2  Amnesty POI-10-1-1  3  [105.84161265950597, 13.147748954631947, 105.8...   \n3  Amnesty POI-10-1-1  4  [105.84161265950597, 13.147748954631947, 105.8...   \n4  Amnesty POI-10-1-1  5  [105.84161265950597, 13.147748954631947, 105.8...   \n\n  lowres_date highres_date  area  cloud_cover  delta         lon        lat  \\\n0  2019-01-06   2019-01-27   2.5         0.06    -21  105.848905  13.154895   \n1  2019-02-15   2019-01-27   2.5         0.15     19  105.848905  13.154895   \n2  2019-01-31   2019-01-27   2.5         6.26      4  105.848905  13.154895   \n3  2018-12-17   2019-01-27   2.5         0.73    -41  105.848905  13.154895   \n4  2018-12-02   2019-01-27   2.5         0.11    -56  105.848905  13.154895   \n\n   LCCS  SMOD IPCC Class                                         LCCS class  \\\n0    50    11     Forest  Tree cover, broadleaved, evergreen, closed to ...   \n1    50    11     Forest  Tree cover, broadleaved, evergreen, closed to ...   \n2    50    11     Forest  Tree cover, broadleaved, evergreen, closed to ...   \n3    50    11     Forest  Tree cover, broadleaved, evergreen, closed to ...   \n4    50    11     Forest  Tree cover, broadleaved, evergreen, closed to ...   \n\n             SMOD Class  \n0  Rural: Very Low Dens  \n1  Rural: Very Low Dens  \n2  Rural: Very Low Dens  \n3  Rural: Very Low Dens  \n4  Rural: Very Low Dens  ",
      "text/html": "<div>\n<style scoped>\n    .dataframe tbody tr th:only-of-type {\n        vertical-align: middle;\n    }\n\n    .dataframe tbody tr th {\n        vertical-align: top;\n    }\n\n    .dataframe thead th {\n        text-align: right;\n    }\n</style>\n<table border=\"1\" class=\"dataframe\">\n  <thead>\n    <tr style=\"text-align: right;\">\n      <th></th>\n      <th>ID</th>\n      <th>n</th>\n      <th>bounds</th>\n      <th>lowres_date</th>\n      <th>highres_date</th>\n      <th>area</th>\n      <th>cloud_cover</th>\n      <th>delta</th>\n      <th>lon</th>\n      <th>lat</th>\n      <th>LCCS</th>\n      <th>SMOD</th>\n      <th>IPCC Class</th>\n      <th>LCCS class</th>\n      <th>SMOD Class</th>\n    </tr>\n  </thead>\n  <tbody>\n    <tr>\n      <th>0</th>\n      <td>Amnesty POI-10-1-1</td>\n      <td>1</td>\n      <td>[105.84161265950597, 13.147748954631947, 105.8...</td>\n      <td>2019-01-06</td>\n      <td>2019-01-27</td>\n      <td>2.5</td>\n      <td>0.06</td>\n      <td>-21</td>\n      <td>105.848905</td>\n      <td>13.154895</td>\n      <td>50</td>\n      <td>11</td>\n      <td>Forest</td>\n      <td>Tree cover, broadleaved, evergreen, closed to ...</td>\n      <td>Rural: Very Low Dens</td>\n    </tr>\n    <tr>\n      <th>1</th>\n      <td>Amnesty POI-10-1-1</td>\n      <td>2</td>\n      <td>[105.84161265950597, 13.147748954631947, 105.8...</td>\n      <td>2019-02-15</td>\n      <td>2019-01-27</td>\n      <td>2.5</td>\n      <td>0.15</td>\n      <td>19</td>\n      <td>105.848905</td>\n      <td>13.154895</td>\n      <td>50</td>\n      <td>11</td>\n      <td>Forest</td>\n      <td>Tree cover, broadleaved, evergreen, closed to ...</td>\n      <td>Rural: Very Low Dens</td>\n    </tr>\n    <tr>\n      <th>2</th>\n      <td>Amnesty POI-10-1-1</td>\n      <td>3</td>\n      <td>[105.84161265950597, 13.147748954631947, 105.8...</td>\n      <td>2019-01-31</td>\n      <td>2019-01-27</td>\n      <td>2.5</td>\n      <td>6.26</td>\n      <td>4</td>\n      <td>105.848905</td>\n      <td>13.154895</td>\n      <td>50</td>\n      <td>11</td>\n      <td>Forest</td>\n      <td>Tree cover, broadleaved, evergreen, closed to ...</td>\n      <td>Rural: Very Low Dens</td>\n    </tr>\n    <tr>\n      <th>3</th>\n      <td>Amnesty POI-10-1-1</td>\n      <td>4</td>\n      <td>[105.84161265950597, 13.147748954631947, 105.8...</td>\n      <td>2018-12-17</td>\n      <td>2019-01-27</td>\n      <td>2.5</td>\n      <td>0.73</td>\n      <td>-41</td>\n      <td>105.848905</td>\n      <td>13.154895</td>\n      <td>50</td>\n      <td>11</td>\n      <td>Forest</td>\n      <td>Tree cover, broadleaved, evergreen, closed to ...</td>\n      <td>Rural: Very Low Dens</td>\n    </tr>\n    <tr>\n      <th>4</th>\n      <td>Amnesty POI-10-1-1</td>\n      <td>5</td>\n      <td>[105.84161265950597, 13.147748954631947, 105.8...</td>\n      <td>2018-12-02</td>\n      <td>2019-01-27</td>\n      <td>2.5</td>\n      <td>0.11</td>\n      <td>-56</td>\n      <td>105.848905</td>\n      <td>13.154895</td>\n      <td>50</td>\n      <td>11</td>\n      <td>Forest</td>\n      <td>Tree cover, broadleaved, evergreen, closed to ...</td>\n      <td>Rural: Very Low Dens</td>\n    </tr>\n  </tbody>\n</table>\n</div>"
     },
     "execution_count": 2,
     "metadata": {},
     "output_type": "execute_result"
    }
   ],
   "source": [
    "metadata.head()"
   ],
   "metadata": {
    "collapsed": false,
    "ExecuteTime": {
     "end_time": "2024-03-20T20:00:08.280537Z",
     "start_time": "2024-03-20T20:00:08.270197500Z"
    }
   },
   "id": "e78432e65c0bb218"
  },
  {
   "cell_type": "markdown",
   "source": [
    "La metadata general nos da la fecha de las fotos de alta resolución. Sin embargo, asociado a cada equivalente de baja resolución hay otra metadata para cada revisita (8 por cada imagen de alta resolución) las fechas no coinciden ya que si en los datos miramos la metadata del \"Amnesty POI-10-1-1\" veremos que las fotos satelitales fueron tomadas en 2017 mientras que las fotos de alta resolución fueron 2 años después.\n",
    "\n",
    "Por lo tanto al problema que me enfrento es, para cada una de las fotos de alta resolución, qué foto de baja resolución se debería coger. \n",
    "\n",
    "En primer lugar deberé crear funciones que me permitan examinar la metadata de las imagenes satelitales de forma no manual."
   ],
   "metadata": {
    "collapsed": false
   },
   "id": "416af55e92e2a3c"
  },
  {
   "cell_type": "code",
   "execution_count": 3,
   "outputs": [
    {
     "data": {
      "text/plain": "Empty DataFrame\nColumns: [cloud_cover, target_date, delta, area, datetime]\nIndex: []",
      "text/html": "<div>\n<style scoped>\n    .dataframe tbody tr th:only-of-type {\n        vertical-align: middle;\n    }\n\n    .dataframe tbody tr th {\n        vertical-align: top;\n    }\n\n    .dataframe thead th {\n        text-align: right;\n    }\n</style>\n<table border=\"1\" class=\"dataframe\">\n  <thead>\n    <tr style=\"text-align: right;\">\n      <th></th>\n      <th>cloud_cover</th>\n      <th>target_date</th>\n      <th>delta</th>\n      <th>area</th>\n      <th>datetime</th>\n    </tr>\n  </thead>\n  <tbody>\n  </tbody>\n</table>\n</div>"
     },
     "execution_count": 3,
     "metadata": {},
     "output_type": "execute_result"
    }
   ],
   "source": [
    "datamanager.get_revisits_metada(\"Amnesty POI-10-1-1\")"
   ],
   "metadata": {
    "collapsed": false,
    "ExecuteTime": {
     "end_time": "2024-03-20T20:00:08.284733300Z",
     "start_time": "2024-03-20T20:00:08.277536900Z"
    }
   },
   "id": "846f7a545b2da86d"
  }
 ],
 "metadata": {
  "kernelspec": {
   "display_name": "Python 3",
   "language": "python",
   "name": "python3"
  },
  "language_info": {
   "codemirror_mode": {
    "name": "ipython",
    "version": 2
   },
   "file_extension": ".py",
   "mimetype": "text/x-python",
   "name": "python",
   "nbconvert_exporter": "python",
   "pygments_lexer": "ipython2",
   "version": "2.7.6"
  }
 },
 "nbformat": 4,
 "nbformat_minor": 5
}
