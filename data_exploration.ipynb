{
 "cells": [
  {
   "cell_type": "code",
   "execution_count": 1,
   "outputs": [],
   "source": [
    "import numpy as np\n",
    "import pandas as pd\n",
    "import matplotlib.pyplot as plt\n",
    "\n",
    "from utils.DataManager import DataManager"
   ],
   "metadata": {
    "collapsed": false,
    "ExecuteTime": {
     "end_time": "2024-03-20T17:30:41.551387200Z",
     "start_time": "2024-03-20T17:30:37.281198500Z"
    }
   },
   "id": "e2f1d2043693bf2e"
  },
  {
   "cell_type": "code",
   "execution_count": null,
   "outputs": [],
   "source": [
    "data_directory = \"E:/TFG/core_dataset_sat\"\n",
    "lr_dataset_name = \"lr_dataset\"\n",
    "hr_dataset_name = \"hr_dataset/12bit\"\n",
    "datamanager = DataManager(data_directory, lr_dataset_name, hr_dataset_name)\n",
    "\n",
    "metadata = datamanager.get_data_points()"
   ],
   "metadata": {
    "collapsed": false
   },
   "id": "6d1cf4d6434d850e"
  }
 ],
 "metadata": {
  "kernelspec": {
   "display_name": "Python 3",
   "language": "python",
   "name": "python3"
  },
  "language_info": {
   "codemirror_mode": {
    "name": "ipython",
    "version": 2
   },
   "file_extension": ".py",
   "mimetype": "text/x-python",
   "name": "python",
   "nbconvert_exporter": "python",
   "pygments_lexer": "ipython2",
   "version": "2.7.6"
  }
 },
 "nbformat": 4,
 "nbformat_minor": 5
}
